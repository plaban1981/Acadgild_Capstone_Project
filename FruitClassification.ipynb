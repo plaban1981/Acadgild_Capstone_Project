{
  "nbformat": 4,
  "nbformat_minor": 0,
  "metadata": {
    "colab": {
      "name": "FruitClassification.ipynb",
      "version": "0.3.2",
      "provenance": [],
      "include_colab_link": true
    },
    "kernelspec": {
      "name": "python3",
      "display_name": "Python 3"
    },
    "accelerator": "GPU"
  },
  "cells": [
    {
      "cell_type": "markdown",
      "metadata": {
        "id": "view-in-github",
        "colab_type": "text"
      },
      "source": [
        "<a href=\"https://colab.research.google.com/github/plaban1981/Acadgild_Capstone_Project/blob/master/FruitClassification.ipynb\" target=\"_parent\"><img src=\"https://colab.research.google.com/assets/colab-badge.svg\" alt=\"Open In Colab\"/></a>"
      ]
    },
    {
      "metadata": {
        "id": "hTq5tKp2oEMI",
        "colab_type": "code",
        "colab": {
          "base_uri": "https://localhost:8080/",
          "height": 34
        },
        "outputId": "be74f0b4-6422-46da-cdf9-37fc49c61a72"
      },
      "cell_type": "code",
      "source": [
        "from keras.layers import Input, Lambda, Dense, Flatten\n",
        "from keras.models import Model\n",
        "from keras.applications.vgg16 import VGG16\n",
        "from keras.applications.vgg16 import preprocess_input\n",
        "from keras.preprocessing import image\n",
        "from keras.preprocessing.image import ImageDataGenerator\n",
        "from keras.models import Sequential\n",
        "\n",
        "from sklearn.metrics import confusion_matrix\n",
        "import numpy as np\n",
        "import matplotlib.pyplot as plt\n",
        "from glob import glob\n",
        "\n",
        "# re-size all the images to this\n",
        "IMAGE_SIZE = [100, 100]"
      ],
      "execution_count": 1,
      "outputs": [
        {
          "output_type": "stream",
          "text": [
            "Using TensorFlow backend.\n"
          ],
          "name": "stderr"
        }
      ]
    },
    {
      "metadata": {
        "id": "me5yjXK8KizQ",
        "colab_type": "code",
        "colab": {
          "base_uri": "https://localhost:8080/",
          "height": 34
        },
        "outputId": "b3e16314-8c58-4c63-c172-633f960d9821"
      },
      "cell_type": "code",
      "source": [
        "import os\n",
        "os.listdir('fruits-360')"
      ],
      "execution_count": 5,
      "outputs": [
        {
          "output_type": "execute_result",
          "data": {
            "text/plain": [
              "['Test', 'LICENSE', 'Training', 'test-multiple_fruits', 'readme.md', 'papers']"
            ]
          },
          "metadata": {
            "tags": []
          },
          "execution_count": 5
        }
      ]
    },
    {
      "metadata": {
        "id": "_9LwLJpT34AG",
        "colab_type": "code",
        "colab": {}
      },
      "cell_type": "code",
      "source": [
        "#set  training and test dataset path\n",
        "train_path = 'fruits-360/Training'\n",
        "valid_path = 'fruits-360/Test'"
      ],
      "execution_count": 0,
      "outputs": []
    },
    {
      "metadata": {
        "id": "v5cEaaq44W_Y",
        "colab_type": "code",
        "colab": {
          "base_uri": "https://localhost:8080/",
          "height": 51
        },
        "outputId": "2311ca56-ea0a-4dd0-cc4e-59f8d2c190a6"
      },
      "cell_type": "code",
      "source": [
        "# add preprocessing layer to the front of VGG\n",
        "vgg = VGG16(input_shape=IMAGE_SIZE + [3], weights='imagenet', include_top=False)"
      ],
      "execution_count": 7,
      "outputs": [
        {
          "output_type": "stream",
          "text": [
            "Downloading data from https://github.com/fchollet/deep-learning-models/releases/download/v0.1/vgg16_weights_tf_dim_ordering_tf_kernels_notop.h5\n",
            "58892288/58889256 [==============================] - 1s 0us/step\n"
          ],
          "name": "stdout"
        }
      ]
    },
    {
      "metadata": {
        "id": "JaVOIUX74fUe",
        "colab_type": "code",
        "colab": {}
      },
      "cell_type": "code",
      "source": [
        "# don't train existing weights\n",
        "for layer in vgg.layers:\n",
        "  layer.trainable = False"
      ],
      "execution_count": 0,
      "outputs": []
    },
    {
      "metadata": {
        "id": "limrT0Zt4l9J",
        "colab_type": "code",
        "colab": {}
      },
      "cell_type": "code",
      "source": [
        "# useful for getting number of classes\n",
        "folders = glob('fruits-360/Training/*')"
      ],
      "execution_count": 0,
      "outputs": []
    },
    {
      "metadata": {
        "id": "4ppDbIcR4xsW",
        "colab_type": "code",
        "colab": {
          "base_uri": "https://localhost:8080/",
          "height": 34
        },
        "outputId": "cd34950a-1a4d-41c7-dd7f-9e5fcc19b14f"
      },
      "cell_type": "code",
      "source": [
        "len(folders)"
      ],
      "execution_count": 10,
      "outputs": [
        {
          "output_type": "execute_result",
          "data": {
            "text/plain": [
              "81"
            ]
          },
          "metadata": {
            "tags": []
          },
          "execution_count": 10
        }
      ]
    },
    {
      "metadata": {
        "id": "fRlUjS3v43QJ",
        "colab_type": "code",
        "colab": {}
      },
      "cell_type": "code",
      "source": [
        "# our layers - you can add more if you want\n",
        "x = Flatten()(vgg.output)\n",
        "# \n",
        "prediction = Dense(len(folders), activation='softmax')(x)"
      ],
      "execution_count": 0,
      "outputs": []
    },
    {
      "metadata": {
        "id": "zvxw8_oC5EWa",
        "colab_type": "code",
        "colab": {
          "base_uri": "https://localhost:8080/",
          "height": 34
        },
        "outputId": "b82f1200-ea13-4d0f-9d89-fedcccc23b33"
      },
      "cell_type": "code",
      "source": [
        "prediction"
      ],
      "execution_count": 12,
      "outputs": [
        {
          "output_type": "execute_result",
          "data": {
            "text/plain": [
              "<tf.Tensor 'dense_1/Softmax:0' shape=(?, 81) dtype=float32>"
            ]
          },
          "metadata": {
            "tags": []
          },
          "execution_count": 12
        }
      ]
    },
    {
      "metadata": {
        "id": "i7bVeMnQ5dIj",
        "colab_type": "code",
        "colab": {}
      },
      "cell_type": "code",
      "source": [
        "# create a model object\n",
        "model = Model(inputs=vgg.input, outputs=prediction)"
      ],
      "execution_count": 0,
      "outputs": []
    },
    {
      "metadata": {
        "id": "oSDJfr_T5g0k",
        "colab_type": "code",
        "colab": {
          "base_uri": "https://localhost:8080/",
          "height": 850
        },
        "outputId": "3aadcdaf-69b5-4881-ae09-0c3a7b2c2a1d"
      },
      "cell_type": "code",
      "source": [
        "# view the structure of the model\n",
        "model.summary()"
      ],
      "execution_count": 14,
      "outputs": [
        {
          "output_type": "stream",
          "text": [
            "_________________________________________________________________\n",
            "Layer (type)                 Output Shape              Param #   \n",
            "=================================================================\n",
            "input_1 (InputLayer)         (None, 100, 100, 3)       0         \n",
            "_________________________________________________________________\n",
            "block1_conv1 (Conv2D)        (None, 100, 100, 64)      1792      \n",
            "_________________________________________________________________\n",
            "block1_conv2 (Conv2D)        (None, 100, 100, 64)      36928     \n",
            "_________________________________________________________________\n",
            "block1_pool (MaxPooling2D)   (None, 50, 50, 64)        0         \n",
            "_________________________________________________________________\n",
            "block2_conv1 (Conv2D)        (None, 50, 50, 128)       73856     \n",
            "_________________________________________________________________\n",
            "block2_conv2 (Conv2D)        (None, 50, 50, 128)       147584    \n",
            "_________________________________________________________________\n",
            "block2_pool (MaxPooling2D)   (None, 25, 25, 128)       0         \n",
            "_________________________________________________________________\n",
            "block3_conv1 (Conv2D)        (None, 25, 25, 256)       295168    \n",
            "_________________________________________________________________\n",
            "block3_conv2 (Conv2D)        (None, 25, 25, 256)       590080    \n",
            "_________________________________________________________________\n",
            "block3_conv3 (Conv2D)        (None, 25, 25, 256)       590080    \n",
            "_________________________________________________________________\n",
            "block3_pool (MaxPooling2D)   (None, 12, 12, 256)       0         \n",
            "_________________________________________________________________\n",
            "block4_conv1 (Conv2D)        (None, 12, 12, 512)       1180160   \n",
            "_________________________________________________________________\n",
            "block4_conv2 (Conv2D)        (None, 12, 12, 512)       2359808   \n",
            "_________________________________________________________________\n",
            "block4_conv3 (Conv2D)        (None, 12, 12, 512)       2359808   \n",
            "_________________________________________________________________\n",
            "block4_pool (MaxPooling2D)   (None, 6, 6, 512)         0         \n",
            "_________________________________________________________________\n",
            "block5_conv1 (Conv2D)        (None, 6, 6, 512)         2359808   \n",
            "_________________________________________________________________\n",
            "block5_conv2 (Conv2D)        (None, 6, 6, 512)         2359808   \n",
            "_________________________________________________________________\n",
            "block5_conv3 (Conv2D)        (None, 6, 6, 512)         2359808   \n",
            "_________________________________________________________________\n",
            "block5_pool (MaxPooling2D)   (None, 3, 3, 512)         0         \n",
            "_________________________________________________________________\n",
            "flatten_1 (Flatten)          (None, 4608)              0         \n",
            "_________________________________________________________________\n",
            "dense_1 (Dense)              (None, 81)                373329    \n",
            "=================================================================\n",
            "Total params: 15,088,017\n",
            "Trainable params: 373,329\n",
            "Non-trainable params: 14,714,688\n",
            "_________________________________________________________________\n"
          ],
          "name": "stdout"
        }
      ]
    },
    {
      "metadata": {
        "id": "cJBjdid556kO",
        "colab_type": "code",
        "colab": {}
      },
      "cell_type": "code",
      "source": [
        "\n",
        "# tell the model what cost and optimization method to use\n",
        "model.compile(\n",
        "  loss='categorical_crossentropy',\n",
        "  optimizer='adam',\n",
        "  metrics=['accuracy']\n",
        ")"
      ],
      "execution_count": 0,
      "outputs": []
    },
    {
      "metadata": {
        "id": "nwNCXmp46Br2",
        "colab_type": "code",
        "colab": {}
      },
      "cell_type": "code",
      "source": [
        "from keras.preprocessing.image import ImageDataGenerator\n",
        "\n",
        "train_datagen = ImageDataGenerator(rescale = 1./255,\n",
        "                                   shear_range = 0.2,\n",
        "                                   zoom_range = 0.2,\n",
        "                                   horizontal_flip = True)\n",
        "\n",
        "test_datagen = ImageDataGenerator(rescale = 1./255)"
      ],
      "execution_count": 0,
      "outputs": []
    },
    {
      "metadata": {
        "id": "GVmr2GfI6ozG",
        "colab_type": "code",
        "colab": {
          "base_uri": "https://localhost:8080/",
          "height": 34
        },
        "outputId": "486bb952-5169-42c8-988d-357415682f60"
      },
      "cell_type": "code",
      "source": [
        "#Training data generator\n",
        "training_set = train_datagen.flow_from_directory('fruits-360/Training',\n",
        "                                                 target_size = (100, 100),\n",
        "                                                 batch_size = 32,\n",
        "                                                 class_mode = 'categorical')"
      ],
      "execution_count": 17,
      "outputs": [
        {
          "output_type": "stream",
          "text": [
            "Found 41322 images belonging to 81 classes.\n"
          ],
          "name": "stdout"
        }
      ]
    },
    {
      "metadata": {
        "id": "b9fvj9Iz6-QJ",
        "colab_type": "code",
        "colab": {
          "base_uri": "https://localhost:8080/",
          "height": 34
        },
        "outputId": "73f5f396-c2c2-4b98-bc19-e2c15b7c0c34"
      },
      "cell_type": "code",
      "source": [
        "#Test Data generator\n",
        "test_set = test_datagen.flow_from_directory('fruits-360/Test',\n",
        "                                            target_size = (100, 100),\n",
        "                                            batch_size = 32,\n",
        "                                            class_mode = 'categorical')"
      ],
      "execution_count": 18,
      "outputs": [
        {
          "output_type": "stream",
          "text": [
            "Found 13877 images belonging to 81 classes.\n"
          ],
          "name": "stdout"
        }
      ]
    },
    {
      "metadata": {
        "id": "zjnitQ10-FYn",
        "colab_type": "code",
        "colab": {
          "base_uri": "https://localhost:8080/",
          "height": 867
        },
        "outputId": "a7591f0b-20a2-470e-ac24-7ad211592c4f"
      },
      "cell_type": "code",
      "source": [
        "# fit the model\n",
        "r = model.fit_generator(\n",
        "  training_set,\n",
        "  validation_data=test_set,\n",
        "  epochs=25,\n",
        "  steps_per_epoch=len(training_set),\n",
        "  validation_steps=len(test_set)\n",
        ")"
      ],
      "execution_count": 19,
      "outputs": [
        {
          "output_type": "stream",
          "text": [
            "Epoch 1/25\n",
            "1292/1292 [==============================] - 219s 169ms/step - loss: 0.6410 - acc: 0.8765 - val_loss: 0.2769 - val_acc: 0.9395\n",
            "Epoch 2/25\n",
            "1292/1292 [==============================] - 214s 165ms/step - loss: 0.1112 - acc: 0.9813 - val_loss: 0.1641 - val_acc: 0.9691\n",
            "Epoch 3/25\n",
            "1292/1292 [==============================] - 215s 166ms/step - loss: 0.0630 - acc: 0.9878 - val_loss: 0.1402 - val_acc: 0.9604\n",
            "Epoch 4/25\n",
            "1292/1292 [==============================] - 214s 166ms/step - loss: 0.0438 - acc: 0.9906 - val_loss: 0.1147 - val_acc: 0.9647\n",
            "Epoch 5/25\n",
            "1292/1292 [==============================] - 209s 162ms/step - loss: 0.0365 - acc: 0.9910 - val_loss: 0.0993 - val_acc: 0.9745\n",
            "Epoch 6/25\n",
            "1292/1292 [==============================] - 208s 161ms/step - loss: 0.0303 - acc: 0.9917 - val_loss: 0.0840 - val_acc: 0.9758\n",
            "Epoch 7/25\n",
            "1292/1292 [==============================] - 208s 161ms/step - loss: 0.0283 - acc: 0.9916 - val_loss: 0.1222 - val_acc: 0.9645\n",
            "Epoch 8/25\n",
            "1292/1292 [==============================] - 207s 160ms/step - loss: 0.0244 - acc: 0.9921 - val_loss: 0.0720 - val_acc: 0.9800\n",
            "Epoch 9/25\n",
            "1292/1292 [==============================] - 211s 163ms/step - loss: 0.0241 - acc: 0.9924 - val_loss: 0.0773 - val_acc: 0.9762\n",
            "Epoch 10/25\n",
            "1292/1292 [==============================] - 212s 164ms/step - loss: 0.0240 - acc: 0.9924 - val_loss: 0.1028 - val_acc: 0.9698\n",
            "Epoch 11/25\n",
            "1292/1292 [==============================] - 211s 163ms/step - loss: 0.0208 - acc: 0.9931 - val_loss: 0.1014 - val_acc: 0.9737\n",
            "Epoch 12/25\n",
            "1292/1292 [==============================] - 210s 163ms/step - loss: 0.0218 - acc: 0.9929 - val_loss: 0.0811 - val_acc: 0.9767\n",
            "Epoch 13/25\n",
            "1292/1292 [==============================] - 211s 163ms/step - loss: 0.0229 - acc: 0.9924 - val_loss: 0.2007 - val_acc: 0.9488\n",
            "Epoch 14/25\n",
            "1292/1292 [==============================] - 212s 164ms/step - loss: 0.0196 - acc: 0.9930 - val_loss: 0.0857 - val_acc: 0.9741\n",
            "Epoch 15/25\n",
            "1292/1292 [==============================] - 213s 165ms/step - loss: 0.0203 - acc: 0.9931 - val_loss: 0.0670 - val_acc: 0.9828\n",
            "Epoch 16/25\n",
            "1292/1292 [==============================] - 213s 165ms/step - loss: 0.0200 - acc: 0.9930 - val_loss: 0.0812 - val_acc: 0.9773\n",
            "Epoch 17/25\n",
            "1292/1292 [==============================] - 211s 164ms/step - loss: 0.0173 - acc: 0.9937 - val_loss: 0.1719 - val_acc: 0.9599\n",
            "Epoch 18/25\n",
            "1292/1292 [==============================] - 207s 160ms/step - loss: 0.0191 - acc: 0.9933 - val_loss: 0.0878 - val_acc: 0.9787\n",
            "Epoch 19/25\n",
            "1292/1292 [==============================] - 208s 161ms/step - loss: 0.0203 - acc: 0.9930 - val_loss: 0.0822 - val_acc: 0.9785\n",
            "Epoch 20/25\n",
            "1292/1292 [==============================] - 207s 160ms/step - loss: 0.0189 - acc: 0.9927 - val_loss: 0.0773 - val_acc: 0.9833\n",
            "Epoch 21/25\n",
            "1292/1292 [==============================] - 211s 163ms/step - loss: 0.0166 - acc: 0.9943 - val_loss: 0.1286 - val_acc: 0.9654\n",
            "Epoch 22/25\n",
            "1292/1292 [==============================] - 211s 163ms/step - loss: 0.0187 - acc: 0.9930 - val_loss: 0.1226 - val_acc: 0.9700\n",
            "Epoch 23/25\n",
            "1292/1292 [==============================] - 210s 163ms/step - loss: 0.0181 - acc: 0.9935 - val_loss: 0.0742 - val_acc: 0.9827\n",
            "Epoch 24/25\n",
            "1292/1292 [==============================] - 210s 163ms/step - loss: 0.0173 - acc: 0.9936 - val_loss: 0.0868 - val_acc: 0.9780\n",
            "Epoch 25/25\n",
            "1292/1292 [==============================] - 213s 165ms/step - loss: 0.0201 - acc: 0.9931 - val_loss: 0.1031 - val_acc: 0.9711\n"
          ],
          "name": "stdout"
        }
      ]
    },
    {
      "metadata": {
        "id": "b-fz5PYTYpZE",
        "colab_type": "text"
      },
      "cell_type": "markdown",
      "source": [
        "# Access Model Training History in Keras"
      ]
    },
    {
      "metadata": {
        "id": "l77Ut2_HSiNv",
        "colab_type": "code",
        "colab": {
          "base_uri": "https://localhost:8080/",
          "height": 34
        },
        "outputId": "8dff71fd-cff8-4c42-f319-139fcdb8de22"
      },
      "cell_type": "code",
      "source": [
        "r.history.keys()"
      ],
      "execution_count": 21,
      "outputs": [
        {
          "output_type": "execute_result",
          "data": {
            "text/plain": [
              "dict_keys(['val_loss', 'val_acc', 'loss', 'acc'])"
            ]
          },
          "metadata": {
            "tags": []
          },
          "execution_count": 21
        }
      ]
    },
    {
      "metadata": {
        "id": "70RpEkRhp1KQ",
        "colab_type": "code",
        "colab": {}
      },
      "cell_type": "code",
      "source": [
        ""
      ],
      "execution_count": 0,
      "outputs": []
    },
    {
      "metadata": {
        "id": "pfHnCfWJT5-w",
        "colab_type": "code",
        "colab": {
          "base_uri": "https://localhost:8080/",
          "height": 393
        },
        "outputId": "9f443dbb-6009-45e0-9267-2a7e4c30351e"
      },
      "cell_type": "code",
      "source": [
        "# list all data in history\n",
        "print(r.history.keys())\n",
        "# summarize history for accuracy\n",
        "plt.plot(r.history['acc'])\n",
        "plt.plot(r.history['val_acc'])\n",
        "plt.title('Plot of Model Accuracy on Train and Validation Datasets')\n",
        "plt.ylabel('accuracy')\n",
        "plt.xlabel('epoch')\n",
        "plt.legend(['train', 'test'], loc='upper left')\n",
        "plt.show()"
      ],
      "execution_count": 24,
      "outputs": [
        {
          "output_type": "stream",
          "text": [
            "dict_keys(['val_loss', 'val_acc', 'loss', 'acc'])\n"
          ],
          "name": "stdout"
        },
        {
          "output_type": "display_data",
          "data": {
            "image/png": "[encoded data removed]",
            "text/plain": [
              "<matplotlib.figure.Figure at 0x7f301a47f710>"
            ]
          },
          "metadata": {
            "tags": []
          }
        }
      ]
    },
    {
      "metadata": {
        "id": "sxY8hh7pX9Nv",
        "colab_type": "text"
      },
      "cell_type": "markdown",
      "source": [
        "# Note\n",
        "From the plot of accuracy we can see that the model could probably be trained a little more as the trend for accuracy on both datasets is still rising for the last few epochs. We can also see that the model has not yet over-learned the training dataset, showing comparable skill on both datasets.\n"
      ]
    },
    {
      "metadata": {
        "id": "Y1lsalDAW0eJ",
        "colab_type": "code",
        "colab": {
          "base_uri": "https://localhost:8080/",
          "height": 376
        },
        "outputId": "9f5ef860-412c-48cd-fcbf-334b9264fd66"
      },
      "cell_type": "code",
      "source": [
        "# summarize history for loss\n",
        "plt.plot(r.history['loss'])\n",
        "plt.plot(r.history['val_loss'])\n",
        "plt.title('Plot of Model Loss on Training and Validation Datasets')\n",
        "plt.ylabel('loss')\n",
        "plt.xlabel('epoch')\n",
        "plt.legend(['train', 'test'], loc='upper left')\n",
        "plt.show()"
      ],
      "execution_count": 25,
      "outputs": [
        {
          "output_type": "display_data",
          "data": {
            "image/png": "[encoded data removed]",
            "text/plain": [
              "<matplotlib.figure.Figure at 0x7f30326b4fd0>"
            ]
          },
          "metadata": {
            "tags": []
          }
        }
      ]
    },
    {
      "metadata": {
        "id": "kdhyATqcWkHf",
        "colab_type": "text"
      },
      "cell_type": "markdown",
      "source": [
        "# Note\n",
        "From the plot of loss, we can see that the model has comparable performance on both train and validation datasets (labeled test). If these parallel plots start to depart consistently, it might be a sign to stop training at an earlier epoch."
      ]
    }
  ]
}